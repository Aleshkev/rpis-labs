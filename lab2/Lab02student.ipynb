{
 "cells": [
  {
   "cell_type": "code",
   "execution_count": 58,
   "metadata": {},
   "outputs": [],
   "source": [
    "import math\n",
    "import numpy as np\n",
    "import pandas as pd\n",
    "import matplotlib.pyplot as plt\n",
    "\n",
    "%matplotlib inline"
   ]
  },
  {
   "cell_type": "markdown",
   "metadata": {},
   "source": [
    "# Discrete sampling\n",
    "In the last problem of the first session we sampled with given probabilities using prefix sums and binary search. The sampling code is the bottleneck of the whole process, its running times is 3 times higher than the code for uniform probabilities, and the difference would only increase for larger number of outcomes. In the next two problems we discuss two simple, but powerful techniques one can use to sample in time $O(1)$."
   ]
  },
  {
   "cell_type": "markdown",
   "metadata": {},
   "source": [
    "**Problem 2a.** Consider the problem of sampling with known probabilities $p_1,\\ldots,p_d$. Suppose that you have a black-box that samples with probabilities $q_1,\\ldots,q_d$ that are close to $p_1,\\ldots,p_d$, say\n",
    "$$ \\forall_{i=1,\\ldots,n} p_i \\le (1+\\varepsilon)q_i.$$\n",
    "\n",
    "* How can you use this black-box to sample with probabilities $p_1,\\ldots,p_d$? It is expected, that the running time of the algorithm would be non-deterministic.\n",
    "* Prove that your algorithm is correct.\n",
    "* Implement the algorithm and use it to give a faster implementation for **Problem 1c**."
   ]
  },
  {
   "cell_type": "code",
   "execution_count": null,
   "metadata": {},
   "outputs": [],
   "source": [
    "def sample_p():\n",
    "    while True:\n",
    "        i = sample_q()\n",
    "        if np.random.random() < p[i] / ((1 + eps) * q[i]):\n",
    "            return i"
   ]
  },
  {
   "cell_type": "markdown",
   "source": [
    "*Dowód poprawności*\n",
    "\n",
    "Szansa, że $i$ zostanie wybrane w iteracji to ${q}_{{i}}\\frac{{{p}_{{i}}}}{{{\\left({1}+\\varepsilon\\right)}{q}_{{i}}}}=\\frac{{p}_{{i}}}{{{1}+\\varepsilon}}$.\n",
    "\n",
    "Szansa, że iteracja nie skończy się wybraniem liczby to ${1}-\\sum\\frac{{p}_{{i}}}{{{1}+\\varepsilon}}={1}-\\frac{{1}}{{{1}+\\varepsilon}}=\\frac{\\varepsilon}{{{1}+\\varepsilon}}$.\n",
    "\n",
    "Stąd szansa na wylosowanie $i$ w dowolnej iteracji to $\\frac{{p}_{{i}}}{{{1}+\\varepsilon}}+\\frac{\\varepsilon}{{{1}+\\varepsilon}}\\frac{{p}_{{i}}}{{{1}+\\varepsilon}}+{\\left(\\frac{\\varepsilon}{{{1}+\\varepsilon}}\\right)}^{{2}}\\frac{{p}_{{i}}}{{{1}+\\varepsilon}}+\\ldots=\\frac{{p}_{{i}}}{{{1}+\\varepsilon}}{\\sum_{{{n}={0}}}^{{\\infty}}}{\\left(\\frac{\\varepsilon}{{{1}+\\varepsilon}}\\right)}^{{n}}={p}_{{i}}$"
   ],
   "metadata": {
    "collapsed": false
   }
  },
  {
   "cell_type": "code",
   "execution_count": 52,
   "outputs": [
    {
     "data": {
      "text/plain": "0      160369\n1      169896\n2      180036\n3      182854\n4      184145\n        ...  \n367    194006\n368    201768\n369    204806\n370    206894\n371    194368\nName: births, Length: 372, dtype: int64"
     },
     "execution_count": 52,
     "metadata": {},
     "output_type": "execute_result"
    }
   ],
   "source": [
    "births = pd.read_csv(\"../lab1/us_births_69_88.csv\")[\"births\"]\n",
    "births"
   ],
   "metadata": {
    "collapsed": false
   }
  },
  {
   "cell_type": "code",
   "execution_count": 53,
   "outputs": [
    {
     "name": "stdout",
     "output_type": "stream",
     "text": [
      "p =\n",
      "0      0.002275\n",
      "1      0.002410\n",
      "2      0.002554\n",
      "3      0.002594\n",
      "4      0.002612\n",
      "         ...   \n",
      "367    0.002752\n",
      "368    0.002863\n",
      "369    0.002906\n",
      "370    0.002935\n",
      "371    0.002758\n",
      "Name: p[i], Length: 372, dtype: float64\n",
      "sum(p) = 0.9999999999999999 = 1\n",
      "n = 372\n"
     ]
    }
   ],
   "source": [
    "births_sum = np.sum(births)\n",
    "p = (births / births_sum).rename(\"p[i]\")\n",
    "print(\"p =\")\n",
    "print(p)\n",
    "print(f\"sum(p) = {sum(p)} = 1\")\n",
    "\n",
    "n = len(p)\n",
    "print(f\"n = {n}\")"
   ],
   "metadata": {
    "collapsed": false
   }
  },
  {
   "cell_type": "code",
   "execution_count": 54,
   "outputs": [
    {
     "name": "stdout",
     "output_type": "stream",
     "text": [
      "q =\n",
      "[0.00268817 0.00268817 0.00268817 0.00268817 0.00268817 0.00268817\n",
      " 0.00268817 0.00268817 0.00268817 0.00268817 0.00268817 0.00268817\n",
      " 0.00268817 0.00268817 0.00268817 0.00268817 0.00268817 0.00268817\n",
      " 0.00268817 0.00268817] ...\n",
      "sum(q) = 0.9999999999999992 = 1\n",
      "eps = 0.12368095025464299\n"
     ]
    }
   ],
   "source": [
    "q = np.repeat(1 / n, n)\n",
    "sample_q = lambda: np.random.randint(n)\n",
    "print(\"q =\")\n",
    "print(q[:20], \"...\")\n",
    "print(f\"sum(q) = {sum(q)} = 1\")\n",
    "\n",
    "eps = max(p[i] / q[i] - 1 for i in range(n))\n",
    "assert np.all(p <= (1 + eps) * q), \"p[i] <= (1 + eps)/q[i] condition not met\"\n",
    "print(f\"eps = {eps}\")"
   ],
   "metadata": {
    "collapsed": false
   }
  },
  {
   "cell_type": "code",
   "execution_count": 55,
   "outputs": [],
   "source": [
    "def until_collision():\n",
    "    s = set()\n",
    "    while True:\n",
    "        x = sample_p()\n",
    "        if x in s:\n",
    "            return len(s)\n",
    "        s.add(x)\n",
    "\n",
    "sample = [until_collision() for _ in range(100000)]"
   ],
   "metadata": {
    "collapsed": false
   }
  },
  {
   "cell_type": "code",
   "execution_count": 56,
   "outputs": [
    {
     "data": {
      "text/plain": "<Figure size 1000x600 with 1 Axes>",
      "image/png": "[encoded data removed]"
     },
     "metadata": {},
     "output_type": "display_data"
    },
    {
     "name": "stdout",
     "output_type": "stream",
     "text": [
      "Couple first most likely values: [19 21 18 17 23 20 22 16 15 24]\n",
      "Average value: 23.64543\n"
     ]
    }
   ],
   "source": [
    "plt.figure(figsize=(10, 6))\n",
    "plt.hist(sample, bins=range(1, 101))\n",
    "plt.show()\n",
    "\n",
    "vals, counts = np.unique(sample, return_counts=True)\n",
    "k_counts = vals[np.argsort(counts)][::-1]\n",
    "\n",
    "print('Couple first most likely values: {}'.format(k_counts[:10]))\n",
    "\n",
    "print(f\"Average value: {(np.mean(sample))}\")\n"
   ],
   "metadata": {
    "collapsed": false
   }
  },
  {
   "cell_type": "markdown",
   "metadata": {},
   "source": [
    "**Problem 2b.** One of the reasons this implementation is not significantly faster than the one in **Problem 1c** , apart from $d$ being rather small, is that we are using Python's interpreter a bit too much, and Python is slow. One way around this is usually to use a library function - **searchsorted** is much faster than an equivalent code implemented in pure Python. But even if the functionality you need is not implemented in a lower level language as\n",
    "a library function, there is still hope. You can try to implement it using optimized array algebra, for example using **numpy**. In this problem, your task is to rewrite the previous algorithm, so that the amount of *looping* is reduced to a minimum necessary. In particular, you should create a *vectorized* version of random dates generation (in bulk), while the actual search for duplicates remains a loop with a **set**. Here are some useful tips:\n",
    "   * You can perform arithmetic, comparisons, etc. on **numpy** arrays.\n",
    "   * You can generate whole **numpy** arrays of random numbers at once.\n",
    "   * You can even perform parallel look-up like in the example below."
   ]
  },
  {
   "cell_type": "code",
   "execution_count": 57,
   "metadata": {},
   "outputs": [
    {
     "name": "stderr",
     "output_type": "stream",
     "text": [
      "UsageError: Line magic function `%` not found.\n"
     ]
    }
   ],
   "source": [
    "% % time\n",
    "\n",
    "import numpy as np\n",
    "\n",
    "X = np.array([10, 3, 7])\n",
    "I = np.array([1, 1, 2, 2])\n",
    "print(X[I])\n",
    "X = np.array([[1, 2], [3, 4]])\n",
    "I = np.array([0, 0, 1])\n",
    "J = np.array([1, 0, 1])\n",
    "print(X[I, J])"
   ]
  },
  {
   "cell_type": "markdown",
   "metadata": {},
   "source": [
    "**Problem 2c (Squaring the histogram).** In this problem, we again want to sample with known probabilities $p_1,\\ldots,p_n$, but this time we make no assumptions on $p_i$. Consider the following algorithm:\n",
    "   * Let $V$ be the mean of $p_i$, i.e. $V=\\frac{1}{n}$.\n",
    "   * Create $n$ buckets, each with volume $V$, put each $p_i$ into a separate bucket.\n",
    "   * Until there exists a bucket $A$ that is not full, find a bucket $B$ that overflows, and trasfer probability from $B$ to $A$ until $A$ is exactly full\n",
    "\n",
    "Show that:\n",
    "   * This algorithm always ends.\n",
    "   * When it ends, each bucket contains pieces of at most two $p_i$'s.\n",
    "\n",
    "How to use the result of this algorithm to sample with probabilities $p_i$. Argue that your algorithm is correct and implement it. The sampling part should be *vectorized*. Use this algorithm to sample birthdates again, and test its efficiency."
   ]
  },
  {
   "cell_type": "markdown",
   "metadata": {},
   "source": [
    "\n",
    "**Problem 2d.** Show that the frequency histogram for empirical birthday frequencies can actually be computed exactly, and implement your idea. To this end, design a recurence relation using conditional probabilities and use dynamic programming."
   ]
  },
  {
   "cell_type": "code",
   "execution_count": null,
   "metadata": {},
   "outputs": [],
   "source": []
  }
 ],
 "metadata": {
  "hide_input": false,
  "kernelspec": {
   "name": "python3",
   "language": "python",
   "display_name": "Python 3 (ipykernel)"
  },
  "language_info": {
   "codemirror_mode": {
    "name": "ipython",
    "version": 3
   },
   "file_extension": ".py",
   "mimetype": "text/x-python",
   "name": "python",
   "nbconvert_exporter": "python",
   "pygments_lexer": "ipython3",
   "version": "3.8.5"
  }
 },
 "nbformat": 4,
 "nbformat_minor": 1
}
